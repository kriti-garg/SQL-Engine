{
 "cells": [
  {
   "cell_type": "code",
   "execution_count": 102,
   "metadata": {},
   "outputs": [],
   "source": [
    "import csv\n",
    "import sqlparse\n",
    "import sys\n",
    "import re\n",
    "import traceback\n",
    "from collections import OrderedDict\n",
    "from prettytable import PrettyTable\n",
    "from collections import defaultdict\n",
    "import pandas as pd"
   ]
  },
  {
   "cell_type": "code",
   "execution_count": 82,
   "metadata": {},
   "outputs": [
    {
     "name": "stdout",
     "output_type": "stream",
     "text": [
      "['<begin_table>\\n', 'table1\\n', 'A\\n', 'B\\n', 'C\\n', '<end_table>\\n', '<begin_table>\\n', 'table2\\n', 'B\\n', 'D\\n', '<end_table>\\n']\n",
      "<begin_table>\n",
      "table1\n",
      "A\n",
      "B\n",
      "C\n",
      "<end_table>\n",
      "<begin_table>\n",
      "table2\n",
      "B\n",
      "D\n",
      "<end_table>\n",
      "{'table1': OrderedDict([('A', []), ('B', []), ('C', [])]), 'table2': OrderedDict([('B', []), ('D', [])])}\n"
     ]
    }
   ],
   "source": [
    "with open(\"metadata.txt\",'r') as f:\n",
    "        lines = f.readlines()\n",
    "        print(lines)\n",
    "        tableDict = {}\n",
    "        for line in lines:\n",
    "#             print(line)\n",
    "            line = line.strip()\n",
    "            print(line)\n",
    "            if \"<begin_table>\" in line:\n",
    "                flag = 1\n",
    "                continue\n",
    "            if flag == 1:\n",
    "                tableName = line\n",
    "                tableDict[tableName] = OrderedDict()\n",
    "                flag = 0\n",
    "            elif \"<end_table>\" not in line:\n",
    "                tableDict[tableName][line] = []\n",
    "        print(tableDict)"
   ]
  },
  {
   "cell_type": "code",
   "execution_count": 83,
   "metadata": {},
   "outputs": [],
   "source": [
    "def read_table():\n",
    "    tableDict = {}\n",
    "    with open(\"metadata.txt\",'r') as f:\n",
    "            lines = f.readlines()\n",
    "            print(lines)\n",
    "            for line in lines:\n",
    "    #             print(line)\n",
    "                line = line.strip()\n",
    "    #             print(line)\n",
    "                if \"<begin_table>\" in line:\n",
    "                    flag = 1\n",
    "                    continue\n",
    "                if flag == 1:\n",
    "                    tableName = line\n",
    "                    tableDict[tableName] = OrderedDict()\n",
    "                    flag = 0\n",
    "                elif \"<end_table>\" not in line:\n",
    "                    tableDict[tableName][line] = []\n",
    "            print(tableDict)\n",
    "    return tableDict"
   ]
  },
  {
   "cell_type": "code",
   "execution_count": 84,
   "metadata": {},
   "outputs": [
    {
     "name": "stdout",
     "output_type": "stream",
     "text": [
      "['<begin_table>\\n', 'table1\\n', 'A\\n', 'B\\n', 'C\\n', '<end_table>\\n', '<begin_table>\\n', 'table2\\n', 'B\\n', 'D\\n', '<end_table>\\n']\n",
      "{'table1': OrderedDict([('A', []), ('B', []), ('C', [])]), 'table2': OrderedDict([('B', []), ('D', [])])}\n"
     ]
    }
   ],
   "source": [
    "tableDict = read_table()"
   ]
  },
  {
   "cell_type": "code",
   "execution_count": 85,
   "metadata": {},
   "outputs": [],
   "source": [
    "# tablename = \"table1\"\n",
    "def read_csv(tablename):\n",
    "    tmp_dict = defaultdict(lambda : [])\n",
    "    with open(tablename+\".csv\",'r') as f:\n",
    "        for row in csv.reader(f,delimiter =','):\n",
    "            for i,x in enumerate(row):\n",
    "                tmp_dict[i].append(x)\n",
    "    #             print(i,x)\n",
    "#     print(tmp_dict)\n",
    "    for idx,i in enumerate(tableDict[tablename].keys()):\n",
    "        tableDict[tablename][i] = tmp_dict[idx]\n",
    "    print(tableDict)"
   ]
  },
  {
   "cell_type": "code",
   "execution_count": 86,
   "metadata": {},
   "outputs": [
    {
     "name": "stdout",
     "output_type": "stream",
     "text": [
      "dict_keys(['table1', 'table2'])\n",
      "{'table1': OrderedDict([('A', ['922', '640', '775', '-551', '-952', '-354', '-497', '411', '-900', '858']), ('B', ['158', '773', '85', '811', '311', '646', '335', '803', '718', '731']), ('C', ['5727', '5058', '10164', '1534', '1318', '7063', '4549', '10519', '9020', '3668'])]), 'table2': OrderedDict([('B', []), ('D', [])])}\n",
      "{'table1': OrderedDict([('A', ['922', '640', '775', '-551', '-952', '-354', '-497', '411', '-900', '858']), ('B', ['158', '773', '85', '811', '311', '646', '335', '803', '718', '731']), ('C', ['5727', '5058', '10164', '1534', '1318', '7063', '4549', '10519', '9020', '3668'])]), 'table2': OrderedDict([('B', ['158', '773', '85', '811', '311', '646', '335', '803', '718', '731']), ('D', ['11191', '14421', '5117', '13393', '16116', '5403', '6309', '12262', '10226', '13021'])])}\n"
     ]
    }
   ],
   "source": [
    "ta = tableDict.keys()\n",
    "print(ta)\n",
    "for i in ta:\n",
    "    read_csv(i)"
   ]
  },
  {
   "cell_type": "code",
   "execution_count": 92,
   "metadata": {},
   "outputs": [],
   "source": [
    "def processQuery(q):\n",
    "    queries = sqlparse.parse(q)\n",
    "    print(queries)\n",
    "    gcols = []\n",
    "    gtables = []\n",
    "    for q in queries:\n",
    "        distinct_flag = False\n",
    "#         print(q.tokens)\n",
    "        if str(q.tokens[0]).lower() != \"select\":\n",
    "            print(\"Not a valid query\")\n",
    "            continue\n",
    "        i=2\n",
    "        if str(q.tokens[i]).lower() == \"distinct\":\n",
    "            distinct_flag = True\n",
    "            i += 2\n",
    "            \n",
    "        if type(q.tokens[i]).__name__ == 'Identifier':\n",
    "            cols = [str(q.tokens[i])]\n",
    "        else:\n",
    "            cols = list(q.tokens[i].get_identifiers())\n",
    "            cols = [str(i) for i in cols]\n",
    "        if str(q.tokens[i+2]).lower() != \"from\":\n",
    "            print(\"Invalid query\")\n",
    "            continue\n",
    "        if type(q.tokens[i+4]).__name__ == 'Identifier':\n",
    "            tables = str(q.tokens[i+4])\n",
    "        else:\n",
    "            tables = list((q.tokens[i+4]).get_identifiers())\n",
    "            tables = [str(i) for i in tables]\n",
    "        print(tables)\n",
    "        print(cols)\n",
    "        gcols.append(cols)\n",
    "        gtables.append(tables)\n",
    "    return gcols, gtables    "
   ]
  },
  {
   "cell_type": "code",
   "execution_count": 97,
   "metadata": {},
   "outputs": [
    {
     "name": "stdout",
     "output_type": "stream",
     "text": [
      "(<Statement 'Select...' at 0x7F0CBC3A2B10>, <Statement 'Select...' at 0x7F0CBC3A2CF0>)\n",
      "table1\n",
      "['A']\n",
      "table2\n",
      "['B', 'D']\n"
     ]
    }
   ],
   "source": [
    "gcols, gtables = processQuery(\"Select A from table1; Select B,D from table2\")"
   ]
  },
  {
   "cell_type": "code",
   "execution_count": 98,
   "metadata": {},
   "outputs": [],
   "source": [
    "nqueries = len(gcols)"
   ]
  },
  {
   "cell_type": "code",
   "execution_count": 108,
   "metadata": {},
   "outputs": [
    {
     "name": "stdout",
     "output_type": "stream",
     "text": [
      "      A\n",
      "0   922\n",
      "1   640\n",
      "2   775\n",
      "3  -551\n",
      "4  -952\n",
      "5  -354\n",
      "6  -497\n",
      "7   411\n",
      "8  -900\n",
      "9   858\n",
      "     B      D\n",
      "0  158  11191\n",
      "1  773  14421\n",
      "2   85   5117\n",
      "3  811  13393\n",
      "4  311  16116\n",
      "5  646   5403\n",
      "6  335   6309\n",
      "7  803  12262\n",
      "8  718  10226\n",
      "9  731  13021\n"
     ]
    }
   ],
   "source": [
    "for i in range(nqueries):\n",
    "    cols = gcols[i]\n",
    "    tables = gtables[i]\n",
    "    \n",
    "    rows = []\n",
    "#     rows.append(cols)\n",
    "    \n",
    "    temp_array = []\n",
    "    for j in cols:\n",
    "        temp_array.append(tableDict[tables][j])\n",
    "        \n",
    "    elem = len(temp_array[0])\n",
    "    ln = len(temp_array)\n",
    "    for k in range(elem):\n",
    "        temp_row = []\n",
    "        for j in range(ln):\n",
    "            temp_row.append(temp_array[j][k])\n",
    "        rows.append(temp_row)\n",
    "    df = pd.DataFrame(rows,columns=cols)\n",
    "    print(df)"
   ]
  },
  {
   "cell_type": "code",
   "execution_count": null,
   "metadata": {},
   "outputs": [],
   "source": []
  },
  {
   "cell_type": "code",
   "execution_count": null,
   "metadata": {},
   "outputs": [],
   "source": []
  }
 ],
 "metadata": {
  "kernelspec": {
   "display_name": "Python 3",
   "language": "python",
   "name": "python3"
  },
  "language_info": {
   "codemirror_mode": {
    "name": "ipython",
    "version": 3
   },
   "file_extension": ".py",
   "mimetype": "text/x-python",
   "name": "python",
   "nbconvert_exporter": "python",
   "pygments_lexer": "ipython3",
   "version": "3.5.2"
  }
 },
 "nbformat": 4,
 "nbformat_minor": 2
}
