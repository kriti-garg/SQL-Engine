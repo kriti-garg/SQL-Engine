{
 "cells": [
  {
   "cell_type": "code",
   "execution_count": 102,
   "metadata": {},
   "outputs": [],
   "source": [
    "import csv\n",
    "import sqlparse\n",
    "import sys\n",
    "import re\n",
    "import traceback\n",
    "from collections import OrderedDict\n",
    "from prettytable import PrettyTable\n",
    "from collections import defaultdict\n",
    "import pandas as pd"
   ]
  },
  {
   "cell_type": "code",
   "execution_count": 82,
   "metadata": {},
   "outputs": [
    {
     "name": "stdout",
     "output_type": "stream",
     "text": [
      "['<begin_table>\\n', 'table1\\n', 'A\\n', 'B\\n', 'C\\n', '<end_table>\\n', '<begin_table>\\n', 'table2\\n', 'B\\n', 'D\\n', '<end_table>\\n']\n",
      "<begin_table>\n",
      "table1\n",
      "A\n",
      "B\n",
      "C\n",
      "<end_table>\n",
      "<begin_table>\n",
      "table2\n",
      "B\n",
      "D\n",
      "<end_table>\n",
      "{'table1': OrderedDict([('A', []), ('B', []), ('C', [])]), 'table2': OrderedDict([('B', []), ('D', [])])}\n"
     ]
    }
   ],
   "source": [
    "with open(\"metadata.txt\",'r') as f:\n",
    "        lines = f.readlines()\n",
    "        print(lines)\n",
    "        tableDict = {}\n",
    "        for line in lines:\n",
    "#             print(line)\n",
    "            line = line.strip()\n",
    "            print(line)\n",
    "            if \"<begin_table>\" in line:\n",
    "                flag = 1\n",
    "                continue\n",
    "            if flag == 1:\n",
    "                tableName = line\n",
    "                tableDict[tableName] = OrderedDict()\n",
    "                flag = 0\n",
    "            elif \"<end_table>\" not in line:\n",
    "                tableDict[tableName][line] = []\n",
    "        print(tableDict)"
   ]
  },
  {
   "cell_type": "code",
   "execution_count": 83,
   "metadata": {},
   "outputs": [],
   "source": [
    "def read_table():\n",
    "    tableDict = {}\n",
    "    with open(\"metadata.txt\",'r') as f:\n",
    "            lines = f.readlines()\n",
    "            print(lines)\n",
    "            for line in lines:\n",
    "    #             print(line)\n",
    "                line = line.strip()\n",
    "    #             print(line)\n",
    "                if \"<begin_table>\" in line:\n",
    "                    flag = 1\n",
    "                    continue\n",
    "                if flag == 1:\n",
    "                    tableName = line\n",
    "                    tableDict[tableName] = OrderedDict()\n",
    "                    flag = 0\n",
    "                elif \"<end_table>\" not in line:\n",
    "                    tableDict[tableName][line] = []\n",
    "            print(tableDict)\n",
    "    return tableDict"
   ]
  },
  {
   "cell_type": "code",
   "execution_count": 84,
   "metadata": {},
   "outputs": [
    {
     "name": "stdout",
     "output_type": "stream",
     "text": [
      "['<begin_table>\\n', 'table1\\n', 'A\\n', 'B\\n', 'C\\n', '<end_table>\\n', '<begin_table>\\n', 'table2\\n', 'B\\n', 'D\\n', '<end_table>\\n']\n",
      "{'table1': OrderedDict([('A', []), ('B', []), ('C', [])]), 'table2': OrderedDict([('B', []), ('D', [])])}\n"
     ]
    }
   ],
   "source": [
    "tableDict = read_table()"
   ]
  },
  {
   "cell_type": "code",
   "execution_count": 85,
   "metadata": {},
   "outputs": [],
   "source": [
    "# tablename = \"table1\"\n",
    "def read_csv(tablename):\n",
    "    tmp_dict = defaultdict(lambda : [])\n",
    "    with open(tablename+\".csv\",'r') as f:\n",
    "        for row in csv.reader(f,delimiter =','):\n",
    "            for i,x in enumerate(row):\n",
    "                tmp_dict[i].append(x)\n",
    "    #             print(i,x)\n",
    "#     print(tmp_dict)\n",
    "    for idx,i in enumerate(tableDict[tablename].keys()):\n",
    "        tableDict[tablename][i] = tmp_dict[idx]\n",
    "    print(tableDict)"
   ]
  },
  {
   "cell_type": "code",
   "execution_count": 86,
   "metadata": {},
   "outputs": [
    {
     "name": "stdout",
     "output_type": "stream",
     "text": [
      "dict_keys(['table1', 'table2'])\n",
      "{'table1': OrderedDict([('A', ['922', '640', '775', '-551', '-952', '-354', '-497', '411', '-900', '858']), ('B', ['158', '773', '85', '811', '311', '646', '335', '803', '718', '731']), ('C', ['5727', '5058', '10164', '1534', '1318', '7063', '4549', '10519', '9020', '3668'])]), 'table2': OrderedDict([('B', []), ('D', [])])}\n",
      "{'table1': OrderedDict([('A', ['922', '640', '775', '-551', '-952', '-354', '-497', '411', '-900', '858']), ('B', ['158', '773', '85', '811', '311', '646', '335', '803', '718', '731']), ('C', ['5727', '5058', '10164', '1534', '1318', '7063', '4549', '10519', '9020', '3668'])]), 'table2': OrderedDict([('B', ['158', '773', '85', '811', '311', '646', '335', '803', '718', '731']), ('D', ['11191', '14421', '5117', '13393', '16116', '5403', '6309', '12262', '10226', '13021'])])}\n"
     ]
    }
   ],
   "source": [
    "ta = tableDict.keys()\n",
    "print(ta)\n",
    "for i in ta:\n",
    "    read_csv(i)"
   ]
  },
  {
   "cell_type": "code",
   "execution_count": 206,
   "metadata": {},
   "outputs": [],
   "source": [
    "def applyOp2(ls1, op, ls2):\n",
    "    idxs = []\n",
    "    print(ls1)\n",
    "    print(ls2)\n",
    "    if op == \"=\":\n",
    "        for i in range(len(ls1)):\n",
    "            if(ls1[i] == ls2[i]):\n",
    "                idxs.append(i)\n",
    "    elif op == \">\":\n",
    "        for i in range(len(ls1)):\n",
    "            if(ls1[i] > ls2[i]):\n",
    "                idxs.append(i)\n",
    "    elif op == \"<\":\n",
    "        for i in range(len(ls1)):\n",
    "            if(ls1[i] < ls2[i]):\n",
    "                idxs.append(i)\n",
    "    elif op == \"<=\":\n",
    "        for i in range(len(ls1)):\n",
    "            if(ls1[i] <= ls2[i]):\n",
    "                idxs.append(i)\n",
    "    elif op == \">=\":\n",
    "        for i in range(len(ls1)):\n",
    "            if(ls1[i] >= ls2[i]):\n",
    "                idxs.append(i)\n",
    "    else:\n",
    "        raise N\n",
    "    return idxs"
   ]
  },
  {
   "cell_type": "code",
   "execution_count": 210,
   "metadata": {},
   "outputs": [],
   "source": [
    "def applyOp(cols, tables, colname, comp , value):\n",
    "    curTable = tableDict[tables]\n",
    "    print(curTable)\n",
    "    \n",
    "    ls1 = curTable[colname]\n",
    "    print(ls1)\n",
    "    ls1 = [int(i) for i in ls1]\n",
    "    ls2 = [value] * len(ls1)\n",
    "    idxs = applyOp2(ls1, comp, ls2)\n",
    "    rows = []\n",
    "    print(idxs)\n",
    "    if idxs:\n",
    "        for p in idxs:\n",
    "            temp_row = []\n",
    "            for q in cols:\n",
    "                temp_row.append(curTable[q][p])\n",
    "            rows.append(temp_row)\n",
    "        df = pd.DataFrame(rows,columns=cols)\n",
    "        print(df)\n",
    "    else:\n",
    "        df = pd.DataFrame([],columns=cols)\n",
    "        print(df)"
   ]
  },
  {
   "cell_type": "code",
   "execution_count": 211,
   "metadata": {},
   "outputs": [],
   "source": [
    "def processQuery(q):\n",
    "    queries = sqlparse.parse(q)\n",
    "    print(queries)\n",
    "    gcols = []\n",
    "    gtables = []\n",
    "    for q in queries:\n",
    "        distinct_flag = False\n",
    "        print(q.tokens)\n",
    "        if str(q.tokens[0]).lower() != \"select\":\n",
    "            print(\"Not a valid query\")\n",
    "            continue\n",
    "        i=2\n",
    "        if str(q.tokens[i]).lower() == \"distinct\":\n",
    "            distinct_flag = True\n",
    "            i += 2\n",
    "            \n",
    "        if type(q.tokens[i]).__name__ == 'Identifier':\n",
    "            cols = [str(q.tokens[i])]\n",
    "        else:\n",
    "            cols = list(q.tokens[i].get_identifiers())\n",
    "            cols = [str(i) for i in cols]\n",
    "        if str(q.tokens[i+2]).lower() != \"from\":\n",
    "            print(\"Invalid query\")\n",
    "            continue\n",
    "        if type(q.tokens[i+4]).__name__ == 'Identifier':\n",
    "            tables = str(q.tokens[i+4])\n",
    "        else:\n",
    "            tables = list((q.tokens[i+4]).get_identifiers())\n",
    "            tables = [str(i) for i in tables]\n",
    "        i=6\n",
    "#         print(len(q.tokens))\n",
    "        if len(q.tokens) > i+1:\n",
    "            whereTokens = q.tokens[i+2].tokens\n",
    "            whereTokens = whereTokens[2:]\n",
    "            print(whereTokens)\n",
    "            for cond in whereTokens:\n",
    "                if type(cond).__name__ == \"Comparison\":\n",
    "                    colname = \"\"\n",
    "                    comp = \"\"\n",
    "                    value = 0\n",
    "                    tkns = cond.tokens\n",
    "                    print(tkns)\n",
    "                    for tk in tkns:\n",
    "                        print(tk)\n",
    "                        if type(tk).__name__ == \"Identifier\":\n",
    "                            colname = str(tk)\n",
    "                        if str(tk.ttype) == \"Token.Operator.Comparison\":\n",
    "                            comp = str(tk)\n",
    "                        if str(tk.ttype).startswith('Token.Literal'):\n",
    "                            value = int(str(tk))\n",
    "            print(colname, comp, value)\n",
    "            applyOp(cols, tables, colname, comp , value)\n",
    "#         print(tables)\n",
    "#         print(cols)\n",
    "        gcols.append(cols)\n",
    "        gtables.append(tables)\n",
    "    return gcols, gtables    "
   ]
  },
  {
   "cell_type": "code",
   "execution_count": 212,
   "metadata": {},
   "outputs": [
    {
     "name": "stdout",
     "output_type": "stream",
     "text": [
      "(<Statement 'Select...' at 0x7F0C8F2240C0>,)\n",
      "[<DML 'Select' at 0x7F0C8F225B88>, <Whitespace ' ' at 0x7F0C8F419948>, <Identifier 'A' at 0x7F0C8F224048>, <Whitespace ' ' at 0x7F0C8F4198E8>, <Keyword 'from' at 0x7F0C8F23E828>, <Whitespace ' ' at 0x7F0C8F23EE28>, <Identifier 'table1' at 0x7F0C8F224390>, <Whitespace ' ' at 0x7F0C8F23EEE8>, <Where 'where ...' at 0x7F0C8F2242A0>]\n",
      "[<Comparison 'A > 500' at 0x7F0C8F2244F8>]\n",
      "[<Identifier 'A' at 0x7F0C8F2241B0>, <Whitespace ' ' at 0x7F0C8F2300A8>, <Comparison '>' at 0x7F0C8F230108>, <Whitespace ' ' at 0x7F0C8F230168>, <Integer '500' at 0x7F0C8F2301C8>]\n",
      "A\n",
      " \n",
      ">\n",
      " \n",
      "500\n",
      "A > 500\n",
      "OrderedDict([('A', ['922', '640', '775', '-551', '-952', '-354', '-497', '411', '-900', '858']), ('B', ['158', '773', '85', '811', '311', '646', '335', '803', '718', '731']), ('C', ['5727', '5058', '10164', '1534', '1318', '7063', '4549', '10519', '9020', '3668'])])\n",
      "['922', '640', '775', '-551', '-952', '-354', '-497', '411', '-900', '858']\n",
      "[922, 640, 775, -551, -952, -354, -497, 411, -900, 858]\n",
      "[500, 500, 500, 500, 500, 500, 500, 500, 500, 500]\n",
      "[0, 1, 2, 9]\n",
      "     A\n",
      "0  922\n",
      "1  640\n",
      "2  775\n",
      "3  858\n"
     ]
    },
    {
     "data": {
      "text/plain": [
       "([['A']], ['table1'])"
      ]
     },
     "execution_count": 212,
     "metadata": {},
     "output_type": "execute_result"
    }
   ],
   "source": [
    "processQuery(\"Select A from table1 where A > 500\")#; Select B,D from table2\")"
   ]
  },
  {
   "cell_type": "code",
   "execution_count": 213,
   "metadata": {},
   "outputs": [],
   "source": [
    "nqueries = len(gcols)"
   ]
  },
  {
   "cell_type": "code",
   "execution_count": 197,
   "metadata": {},
   "outputs": [
    {
     "name": "stdout",
     "output_type": "stream",
     "text": [
      "      A\n",
      "0   922\n",
      "1   640\n",
      "2   775\n",
      "3  -551\n",
      "4  -952\n",
      "5  -354\n",
      "6  -497\n",
      "7   411\n",
      "8  -900\n",
      "9   858\n",
      "     B      D\n",
      "0  158  11191\n",
      "1  773  14421\n",
      "2   85   5117\n",
      "3  811  13393\n",
      "4  311  16116\n",
      "5  646   5403\n",
      "6  335   6309\n",
      "7  803  12262\n",
      "8  718  10226\n",
      "9  731  13021\n"
     ]
    }
   ],
   "source": [
    "for i in range(nqueries):\n",
    "    cols = gcols[i]\n",
    "    tables = gtables[i]\n",
    "    \n",
    "    rows = []\n",
    "#     rows.append(cols)\n",
    "    \n",
    "    temp_array = []\n",
    "    for j in cols:\n",
    "        temp_array.append(tableDict[tables][j])\n",
    "        \n",
    "    elem = len(temp_array[0])\n",
    "    ln = len(temp_array)\n",
    "    for k in range(elem):\n",
    "        temp_row = []\n",
    "        for j in range(ln):\n",
    "            temp_row.append(temp_array[j][k])\n",
    "        rows.append(temp_row)\n",
    "    df = pd.DataFrame(rows,columns=cols)\n",
    "    print(df)"
   ]
  },
  {
   "cell_type": "code",
   "execution_count": null,
   "metadata": {},
   "outputs": [],
   "source": []
  },
  {
   "cell_type": "code",
   "execution_count": null,
   "metadata": {},
   "outputs": [],
   "source": []
  }
 ],
 "metadata": {
  "kernelspec": {
   "display_name": "Python 3",
   "language": "python",
   "name": "python3"
  },
  "language_info": {
   "codemirror_mode": {
    "name": "ipython",
    "version": 3
   },
   "file_extension": ".py",
   "mimetype": "text/x-python",
   "name": "python",
   "nbconvert_exporter": "python",
   "pygments_lexer": "ipython3",
   "version": "3.5.2"
  }
 },
 "nbformat": 4,
 "nbformat_minor": 2
}
